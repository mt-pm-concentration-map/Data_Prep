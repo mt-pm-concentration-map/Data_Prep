{
  "nbformat": 4,
  "nbformat_minor": 0,
  "metadata": {
    "colab": {
      "provenance": []
    },
    "kernelspec": {
      "name": "python3",
      "display_name": "Python 3"
    },
    "language_info": {
      "name": "python"
    }
  },
  "cells": [
    {
      "cell_type": "markdown",
      "source": [
        "# Split Data for Cross Validation\n",
        "This scipt divides up the 10 years of available data into 10 folds plus the hold-out data for final testing. Data can be exported to Google Drive or to Google Earth Engine assests."
      ],
      "metadata": {
        "id": "SitfUDOYCSpU"
      }
    },
    {
      "cell_type": "code",
      "execution_count": null,
      "metadata": {
        "id": "mNr3XJFY8PAb"
      },
      "outputs": [],
      "source": [
        "# accesses earth engine API\n",
        "import ee\n",
        "ee.Authenticate()\n",
        "ee.Initialize(project='ee-aspenjkmorgan')"
      ]
    },
    {
      "cell_type": "code",
      "source": [
        "# import PM-2.5, AOD and climate data using full cloud mask\n",
        "data1 = ee.FeatureCollection('projects/ee-aspenjkmorgan/assets/Data/Mul_Var_2012-2015')\n",
        "data2 = ee.FeatureCollection('projects/ee-aspenjkmorgan/assets/Data/Mul_Var_2015-2018')\n",
        "data3 = ee.FeatureCollection('projects/ee-aspenjkmorgan/assets/Data/Mul_Var_2018-2020')\n",
        "data4 = ee.FeatureCollection('projects/ee-aspenjkmorgan/assets/Data/Mul_Var_2020-2023')\n",
        "all_data = ee.FeatureCollection([data1, data2, data3, data4]).flatten()"
      ],
      "metadata": {
        "id": "SJCLq5Qh8V8L"
      },
      "execution_count": null,
      "outputs": []
    },
    {
      "cell_type": "code",
      "source": [
        "# export as feature collections, use these for modeling\n",
        "def exportToAsset(FC, name):\n",
        "  ee.batch.Export.table.toAsset(**{\n",
        "    'collection': FC,\n",
        "    'description': name,\n",
        "    'assetId': 'projects/ee-aspenjkmorgan/assets/Folds/' + name}).start()\n",
        "\n",
        "def exportToDrive(FC, name):\n",
        "  ee.batch.Export.table.toDrive(**{\n",
        "    'collection': FC,\n",
        "    'description': name,\n",
        "    'folder': 'k_folds',\n",
        "    'fileNamePrefix': name,\n",
        "    'fileFormat': 'CSV'}).start()"
      ],
      "metadata": {
        "id": "Vc4ldr2S9Fsv"
      },
      "execution_count": null,
      "outputs": []
    },
    {
      "cell_type": "code",
      "source": [
        "data = all_data.randomColumn()\n",
        "\n",
        "# Divide all data into k folds\n",
        "f0 = data.filter(ee.Filter.lt('random', 0.07))\n",
        "# exportToDrive(f0, 'f0_v2')\n",
        "exportToAsset(f0, 'f0')\n",
        "f1 = data.filter(ee.Filter.And(ee.Filter.gte('random', 0.07), ee.Filter.lt('random', 0.14)))\n",
        "# exportToDrive(f1, 'f1_v2')\n",
        "exportToAsset(f1, 'f1')\n",
        "f2 = data.filter(ee.Filter.And(ee.Filter.gte('random', 0.14), ee.Filter.lt('random', 0.21)))\n",
        "# exportToDrive(f2, 'f2_v2')\n",
        "exportToAsset(f2, 'f2')\n",
        "f3 = data.filter(ee.Filter.And(ee.Filter.gte('random', 0.21), ee.Filter.lt('random', 0.28)))\n",
        "# exportToDrive(f3, 'f3_v2')\n",
        "exportToAsset(f3, 'f3')\n",
        "f4 = data.filter(ee.Filter.And(ee.Filter.gte('random', 0.28), ee.Filter.lt('random', 0.35)))\n",
        "# exportToDrive(f4, 'f4_v2')\n",
        "exportToAsset(f4, 'f4')\n",
        "f5 = data.filter(ee.Filter.And(ee.Filter.gte('random', 0.35), ee.Filter.lt('random', 0.42)))\n",
        "# exportToDrive(f5, 'f5_v2')\n",
        "exportToAsset(f5, 'f5')\n",
        "f6 = data.filter(ee.Filter.And(ee.Filter.gte('random', 0.42), ee.Filter.lt('random', 0.49)))\n",
        "# exportToDrive(f6, 'f6_v2')\n",
        "exportToAsset(f6, 'f6')\n",
        "f7 = data.filter(ee.Filter.And(ee.Filter.gte('random', 0.49), ee.Filter.lt('random', 0.56)))\n",
        "# exportToDrive(f7, 'f7_v2')\n",
        "exportToAsset(f7, 'f7')\n",
        "f8 = data.filter(ee.Filter.And(ee.Filter.gte('random', 0.56), ee.Filter.lt('random', 0.63)))\n",
        "# exportToDrive(f8, 'f8_v2')\n",
        "exportToAsset(f8, 'f8')\n",
        "f9 = data.filter(ee.Filter.And(ee.Filter.gte('random', 0.63), ee.Filter.lt('random', 0.7)))\n",
        "# exportToDrive(f9, 'f9_v2')\n",
        "exportToAsset(f9, 'f9')\n",
        "test = data.filter(ee.Filter.gte('random', 0.7))\n",
        "# exportToDrive(test, 'test_v2')\n",
        "exportToAsset(test, 'test')"
      ],
      "metadata": {
        "id": "7rpUzI8Z8YSz"
      },
      "execution_count": null,
      "outputs": []
    }
  ]
}