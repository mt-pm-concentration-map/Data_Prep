{
  "nbformat": 4,
  "nbformat_minor": 0,
  "metadata": {
    "colab": {
      "provenance": []
    },
    "kernelspec": {
      "name": "python3",
      "display_name": "Python 3"
    },
    "language_info": {
      "name": "python"
    }
  },
  "cells": [
    {
      "cell_type": "markdown",
      "source": [
        "# Split Data for Cross Validation\n",
        "This scipt divides up the 10 years of available data into 10 folds plus the hold-out data for final testing. Data can be exported to Google Drive or to Google Earth Engine assests."
      ],
      "metadata": {
        "id": "SitfUDOYCSpU"
      }
    },
    {
      "cell_type": "code",
      "execution_count": null,
      "metadata": {
        "colab": {
          "base_uri": "https://localhost:8080/"
        },
        "id": "mNr3XJFY8PAb",
        "outputId": "5b1d3a6c-fe8b-482f-9bb5-17c5bd0c0ada"
      },
      "outputs": [
        {
          "output_type": "stream",
          "name": "stdout",
          "text": [
            "To authorize access needed by Earth Engine, open the following URL in a web browser and follow the instructions. If the web browser does not start automatically, please manually browse the URL below.\n",
            "\n",
            "    https://code.earthengine.google.com/client-auth?scopes=https%3A//www.googleapis.com/auth/earthengine%20https%3A//www.googleapis.com/auth/devstorage.full_control&request_id=61z0eeq2hKAc8CDKN0HjgrnL8x8XKwRbOG4cbAxBYB0&tc=SYET9WgzAV2UkcAgVjGcEST90FP_wIo-sb2lS7DCgWU&cc=Bt5yhYZn9pKsCtUcrJs9DYZ8WqivhP6Ur1SDg_Pw31A\n",
            "\n",
            "The authorization workflow will generate a code, which you should paste in the box below.\n",
            "Enter verification code: 4/1AfJohXkfbRDvJlNyS_Y0FzqeTeTK2NcNFW1rKcvudu8UyuV4ThqPeF7Dqrc\n",
            "\n",
            "Successfully saved authorization token.\n"
          ]
        }
      ],
      "source": [
        "# accesses earth engine API\n",
        "import ee\n",
        "ee.Authenticate()\n",
        "ee.Initialize()"
      ]
    },
    {
      "cell_type": "code",
      "source": [
        "# import PM-2.5, AOD and climate data using full cloud mask\n",
        "data1 = ee.FeatureCollection('users/aspenjkmorgan/Multivariable_FC/Full_Mask_2012-2015')\n",
        "data2 = ee.FeatureCollection('users/aspenjkmorgan/Multivariable_FC/Full_Mask_2015-2018')\n",
        "data3 = ee.FeatureCollection('users/aspenjkmorgan/Multivariable_FC/Full_Mask_2018-2020')\n",
        "data4 = ee.FeatureCollection('users/aspenjkmorgan/Multivariable_FC/Full_Mask_2020-2023')\n",
        "all_data = ee.FeatureCollection([data1, data2, data3, data4]).flatten()"
      ],
      "metadata": {
        "id": "SJCLq5Qh8V8L"
      },
      "execution_count": null,
      "outputs": []
    },
    {
      "cell_type": "code",
      "source": [
        "# export as feature collections, use these for modeling\n",
        "def exportToAsset(FC, name):\n",
        "  ee.batch.Export.table.toAsset(**{\n",
        "    'collection': FC,\n",
        "    'description': name,\n",
        "    'assetId': 'users/aspenjkmorgan/k_folds/' + name}).start()\n",
        "\n",
        "def exportToDrive(FC, name):\n",
        "  ee.batch.Export.table.toDrive(**{\n",
        "    'collection': FC,\n",
        "    'description': name,\n",
        "    'folder': 'k_folds',\n",
        "    'fileNamePrefix': name,\n",
        "    'fileFormat': 'CSV'}).start()"
      ],
      "metadata": {
        "id": "Vc4ldr2S9Fsv"
      },
      "execution_count": null,
      "outputs": []
    },
    {
      "cell_type": "code",
      "source": [
        "data = all_data.randomColumn()\n",
        "\n",
        "# Divide all data into k folds\n",
        "f0 = data.filter(ee.Filter.lt('random', 0.09))\n",
        "exportToDrive(f0, 'f0')\n",
        "exportToAsset(f0, 'f0')\n",
        "f1 = data.filter(ee.Filter.And(ee.Filter.gte('random', 0.09), ee.Filter.lt('random', 0.18)))\n",
        "exportToDrive(f1, 'f1')\n",
        "exportToAsset(f1, 'f1')\n",
        "f2 = data.filter(ee.Filter.And(ee.Filter.gte('random', 0.18), ee.Filter.lt('random', 0.27)))\n",
        "exportToDrive(f2, 'f2')\n",
        "exportToAsset(f2, 'f2')\n",
        "f3 = data.filter(ee.Filter.And(ee.Filter.gte('random', 0.27), ee.Filter.lt('random', 0.36)))\n",
        "exportToDrive(f3, 'f3')\n",
        "exportToAsset(f3, 'f3')\n",
        "f4 = data.filter(ee.Filter.And(ee.Filter.gte('random', 0.36), ee.Filter.lt('random', 0.45)))\n",
        "exportToDrive(f4, 'f4')\n",
        "exportToAsset(f4, 'f4')\n",
        "f5 = data.filter(ee.Filter.And(ee.Filter.gte('random', 0.45), ee.Filter.lt('random', 0.54)))\n",
        "exportToDrive(f5, 'f5')\n",
        "exportToAsset(f5, 'f5')\n",
        "f6 = data.filter(ee.Filter.And(ee.Filter.gte('random', 0.54), ee.Filter.lt('random', 0.63)))\n",
        "exportToDrive(f6, 'f6')\n",
        "exportToAsset(f6, 'f6')\n",
        "f7 = data.filter(ee.Filter.And(ee.Filter.gte('random', 0.63), ee.Filter.lt('random', 0.72)))\n",
        "exportToDrive(f7, 'f7')\n",
        "exportToAsset(f7, 'f7')\n",
        "f8 = data.filter(ee.Filter.And(ee.Filter.gte('random', 0.72), ee.Filter.lt('random', 0.81)))\n",
        "exportToDrive(f8, 'f8')\n",
        "exportToAsset(f8, 'f8')\n",
        "f9 = data.filter(ee.Filter.And(ee.Filter.gte('random', 0.81), ee.Filter.lt('random', 0.9)))\n",
        "exportToDrive(f9, 'f9')\n",
        "exportToAsset(f9, 'f9')\n",
        "test = data.filter(ee.Filter.gte('random', 0.9))\n",
        "exportToDrive(test, 'test')\n",
        "exportToAsset(test, 'test')"
      ],
      "metadata": {
        "id": "7rpUzI8Z8YSz"
      },
      "execution_count": null,
      "outputs": []
    }
  ]
}