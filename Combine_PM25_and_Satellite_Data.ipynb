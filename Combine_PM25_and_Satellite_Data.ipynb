{
  "cells": [
    {
      "cell_type": "markdown",
      "metadata": {
        "id": "CyNwTvNzpyfa"
      },
      "source": [
        "# Combine PM-2.5 and Satellite Data"
      ]
    },
    {
      "cell_type": "code",
      "execution_count": null,
      "metadata": {
        "id": "ES6b1sC43d-4"
      },
      "outputs": [],
      "source": [
        "# To access Earth Engine API\n",
        "import ee\n",
        "ee.Authenticate()\n",
        "ee.Initialize(project='ee-aspenjkmorgan')"
      ]
    },
    {
      "cell_type": "markdown",
      "metadata": {
        "id": "rTfeVJYEp2KL"
      },
      "source": [
        "### Import\n",
        "* Montana border\n",
        "* MODIS AOD\n",
        "* NOAA RTMA variables\n",
        "* NASA PBLH"
      ]
    },
    {
      "cell_type": "code",
      "execution_count": null,
      "metadata": {
        "id": "Z3mPL9YXCdlH"
      },
      "outputs": [],
      "source": [
        "# Use Census data to define MT boundaries\n",
        "MT = ee.FeatureCollection('TIGER/2018/States').filter(\n",
        "  ee.Filter.eq('NAME', 'Montana')).geometry()"
      ]
    },
    {
      "cell_type": "code",
      "execution_count": null,
      "metadata": {
        "id": "KdmYR94A3vFW"
      },
      "outputs": [],
      "source": [
        "# Import AOD data from MODIS MAIAC\n",
        "modis_ic = ee.ImageCollection('MODIS/061/MCD19A2_GRANULES')\n",
        "\n",
        "# Import hourly weather data from noaa (2.5km)\n",
        "# Cast to floats since there are some issues with the data\n",
        "band_to_type = {\n",
        "    'HGT': 'float', # Model terrain elevation\n",
        "    'PRES': 'float', # Pressure\n",
        "    'TMP': 'float', # Temperature\n",
        "    'DPT': 'float', # Dew point temperature\n",
        "    'UGRD': 'float', # u component of wind\n",
        "    'VGRD': 'float', # v componenet of wind\n",
        "    'SPFH': 'float', # specific humidity\n",
        "    'WDIR': 'float', # Wind direction (from which its blowing)\n",
        "    'WIND': 'float', # Wind speed\n",
        "    'GUST': 'float', # Wind gust speed\n",
        "    'VIS': 'float', # Visibility\n",
        "    'TCDC': 'float', # total cloud cover\n",
        "    'ACPC01': 'float' # Total precipitation\n",
        "}\n",
        "order = ['HGT','PRES', 'TMP', 'DPT', 'UGRD', 'VGRD', 'SPFH', 'WDIR', 'WIND', 'GUST',\n",
        "        'VIS', 'TCDC', 'ACPC01']\n",
        "noaa_col = ee.ImageCollection('NOAA/NWS/RTMA').cast(band_to_type, order)\n",
        "\n",
        "# Select variables\n",
        "noaa_col = noaa_col.select('PRES', 'TMP', 'DPT', 'WDIR', 'WIND')\n",
        "\n",
        "# Import planetary boundary height\n",
        "pblh_col = ee.ImageCollection('NASA/GSFC/MERRA/flx/2').select('PBLH')"
      ]
    },
    {
      "cell_type": "code",
      "execution_count": null,
      "metadata": {
        "id": "2YOAjqwx5cOy"
      },
      "outputs": [],
      "source": [
        "# This is PM-2.5 data from 2012-2022 using Terra and Aqua time windows\n",
        "pm_one = ee.FeatureCollection('projects/ee-aspenjkmorgan/assets/PM_averaged/PM_ave_1')\n",
        "pm_two = ee.FeatureCollection('projects/ee-aspenjkmorgan/assets/PM_averaged/PM_ave_2')\n",
        "pm_data = ee.FeatureCollection([pm_one, pm_two]).flatten()\n",
        "\n",
        "# # Get a unique list of all the datetimes in the PM2.5 collection\n",
        "all_datetimes = pm_data.distinct('system:time_start')"
      ]
    },
    {
      "cell_type": "markdown",
      "metadata": {
        "id": "3KMvscbqqTpR"
      },
      "source": [
        "### Reproject and put all data into table together\n",
        "* Cloud mask data using bitwiseExtract helper function\n",
        "* Calculate relative humidity"
      ]
    },
    {
      "cell_type": "code",
      "execution_count": null,
      "metadata": {
        "id": "OxxNoECko5Co"
      },
      "outputs": [],
      "source": [
        "# AOD cloud-mask helper method\n",
        "def bitwiseExtract(input, fromBit, toBit):\n",
        "  maskSize = ee.Number(1).add(toBit).subtract(fromBit)\n",
        "  mask = ee.Number(1).leftShift(maskSize).subtract(1)\n",
        "  return input.rightShift(fromBit).bitwiseAnd(mask)\n",
        "\n",
        "# Helper method for masking, reprojecting, and overlapping data from each datetime\n",
        "def forEachDatetime(dt_feature):\n",
        "  # create average window for corresponding AOD data\n",
        "  dt = ee.Date(dt_feature.get('system:time_start'))\n",
        "  start = ee.Date(dt).advance(-1, 'hour')\n",
        "  end = ee.Date(dt).advance(1, 'hour')\n",
        "\n",
        "  # mask composite AOD image using AOD_QA band, reproject, select AOD, scale it\n",
        "  modis_image = modis_ic.filterDate(start, end).mean()\n",
        "  qa = modis_image.select('AOD_QA').toUint16()\n",
        "  qa_cloud = bitwiseExtract(qa, 0, 2).eq(1)\n",
        "  aod_qa = bitwiseExtract(qa, 5, 7).eq(0)\n",
        "  mask = qa_cloud.And(aod_qa)\n",
        "  aod_buf1 = modis_image.updateMask(mask)\n",
        "  aod_buf2 = aod_buf1.reproject(**{\n",
        "      'crs': ee.Projection('EPSG:4326'),\n",
        "      'scale': 1000})\n",
        "  aod_image = aod_buf2.select('Optical_Depth_047').multiply(0.001).rename('aod')\n",
        "\n",
        "  # Filter NOAA RTMA weather collection and reproject\n",
        "  noaa_image = noaa_col.filterDate(start, end).mean().reproject(**{\n",
        "      'crs': ee.Projection('EPSG:4326'),\n",
        "      'scale': 1000})\n",
        "\n",
        "  # Filter NASA planetary boundary height data and reproject\n",
        "  pblh_image = pblh_col.filterDate(start, end).mean().reproject(**{\n",
        "      'crs': ee.Projection('EPSG:4326'),\n",
        "      'scale': 1000})\n",
        "\n",
        "  # Combine all raster data\n",
        "  raster = ee.Image.cat(aod_image, noaa_image, pblh_image)\n",
        "\n",
        "  # Select PM data for day\n",
        "  pm_pts = pm_data.filterDate(start, end)\n",
        "\n",
        "  # Create table that overlaps data\n",
        "  inputs = raster.bandNames()\n",
        "  dt_col = ee.FeatureCollection(raster.reduceRegions(**{\n",
        "      'collection': pm_pts,\n",
        "      'reducer': ee.Reducer.mean().forEachBand(raster),\n",
        "      'crs': ee.Projection('EPSG:4326'),\n",
        "      'scale': 1000}))\n",
        "  return dt_col\n",
        "\n",
        "# helper method for calculating relative humidity\n",
        "# rel_hum = 100×(e^((17.625xdp)/(243.04+dp))/(e^((17.625xtemp)/(243.04+temp)))\n",
        "def getRH(feature):\n",
        "  dp = ee.Number(feature.get('DPT'))\n",
        "  temp = ee.Number(feature.get('TMP'))\n",
        "  c1 = ee.Number(17.625)\n",
        "  c2 = ee.Number(243.04)\n",
        "  rel_hum = ee.Number(100).multiply(\n",
        "      ((dp.multiply(c1)).divide(dp.add(c2)).exp())\n",
        "      .divide(((temp.multiply(c1)).divide(temp.add(c2))).exp()))\n",
        "  return feature.set('RH', rel_hum)\n"
      ]
    },
    {
      "cell_type": "code",
      "execution_count": null,
      "metadata": {
        "id": "SuLzy1sW6TEe"
      },
      "outputs": [],
      "source": [
        "# define collection of feature collections then flatten\n",
        "full_collection = ee.FeatureCollection(all_datetimes.map(forEachDatetime))\n",
        "flat_collection = full_collection.flatten()\n",
        "\n",
        "# remove null values\n",
        "fil_collection = flat_collection.filter(ee.Filter.notNull(['AOD', 'DPT', 'PRES', 'TMP', 'WDIR', 'WIND', 'PBLH']))\n",
        "\n",
        "# add relative humidity column\n",
        "final_collection = fil_collection.map(getRH)"
      ]
    },
    {
      "cell_type": "markdown",
      "metadata": {
        "id": "JQvaz9FFqzPJ"
      },
      "source": [
        "### Export in parts\n",
        "* There is a limit to the number of features (5000) an ee.FeatureCollection can contain."
      ]
    },
    {
      "cell_type": "code",
      "execution_count": null,
      "metadata": {
        "id": "pbbfLRjFHBu7"
      },
      "outputs": [],
      "source": [
        "# Break data up to export\n",
        "cutoffs = {\n",
        "    '2012': '2015',\n",
        "    '2015': '2018',\n",
        "    '2018': '2020',\n",
        "    '2020': '2023'\n",
        "    }\n",
        "\n",
        "for start_year in cutoffs:\n",
        "  part_col = final_collection.filterDate(ee.Date(start_year + '-1-1'),\n",
        "                                       ee.Date(cutoffs[start_year] + '-1-1'))\n",
        "\n",
        "  # export table to assests\n",
        "  ee.batch.Export.table.toAsset(**{\n",
        "    'collection': part_col,\n",
        "    'description': 'Multivariable_Table_' + start_year + '-' + cutoffs[start_year],\n",
        "    'assetId': 'projects/ee-aspenjkmorgan/assets/Data/Mul_Var_' + start_year + '-' + cutoffs[start_year]}).start()"
      ]
    }
  ],
  "metadata": {
    "colab": {
      "provenance": []
    },
    "kernelspec": {
      "display_name": "Python 3",
      "name": "python3"
    },
    "language_info": {
      "name": "python"
    }
  },
  "nbformat": 4,
  "nbformat_minor": 0
}