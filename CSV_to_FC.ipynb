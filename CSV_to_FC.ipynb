{
  "cells": [
    {
      "cell_type": "markdown",
      "source": [
        "# CSV to ee.FeatureCollection\n",
        "This script converts the PM-2.5 ground station data (in a csv) to an ee.FeatureCollection for upload to Google Earth Engine.\n",
        "\n",
        "This is helpful for casting data within table to proper data type. For example, making sure datetime is ee.Date object rather than a string."
      ],
      "metadata": {
        "id": "aHWdfHsbpEpG"
      }
    },
    {
      "cell_type": "code",
      "execution_count": null,
      "metadata": {
        "id": "PszBmYgO6wUj"
      },
      "outputs": [],
      "source": [
        "# Accesses Earth Engine API\n",
        "import ee\n",
        "ee.Authenticate()\n",
        "ee.Initialize(project='ee-aspenjkmorgan')\n",
        "\n",
        "# import csv reader\n",
        "import csv"
      ]
    },
    {
      "cell_type": "code",
      "source": [
        "from google.colab import drive\n",
        "drive.mount('/content/drive')"
      ],
      "metadata": {
        "colab": {
          "base_uri": "https://localhost:8080/"
        },
        "id": "tHyYXg3KOGT4",
        "outputId": "0b2ce796-cc1b-4b4f-eb80-acf371e826d0"
      },
      "execution_count": null,
      "outputs": [
        {
          "output_type": "stream",
          "name": "stdout",
          "text": [
            "Mounted at /content/drive\n"
          ]
        }
      ]
    },
    {
      "cell_type": "code",
      "execution_count": null,
      "metadata": {
        "id": "CeN-s5V66wUn"
      },
      "outputs": [],
      "source": [
        "# Open file using csv library\n",
        "files = ['/content/drive/MyDrive/INBRE/Rerun_2024/Averaged_PM2.5/PM_ave_1.csv',\n",
        "         '/content/drive/MyDrive/INBRE/Rerun_2024/Averaged_PM2.5/PM_ave_2.csv']\n"
      ]
    },
    {
      "cell_type": "code",
      "source": [
        "# helper function for converting ee.List's of ee elements into a feature collection\n",
        "def createFC(number):\n",
        "    point = ee_xy.get(number)\n",
        "    datetime = ee_datetimes.get(number)\n",
        "    station = ee_sites.get(number)\n",
        "    pm25 = ee_rawvalues.get(number)\n",
        "    return ee.Feature(ee.Geometry.Point(point),\n",
        "     {'station': station, 'pm25': pm25}).set('system:time_start', datetime)"
      ],
      "metadata": {
        "id": "4yXd16AEMppv"
      },
      "execution_count": null,
      "outputs": []
    },
    {
      "cell_type": "code",
      "execution_count": null,
      "metadata": {
        "id": "R-QVSJGvKzAc"
      },
      "outputs": [],
      "source": [
        "for i in range(len(files)):\n",
        "  with open(files[i], 'r', newline='') as csvfile:\n",
        "    reader = csv.DictReader(csvfile)\n",
        "\n",
        "    # parse the dataframe for date, hour, site name, and raw value\n",
        "    # convert components to EE objects\n",
        "    pt_num, xy, sites, rawvalues, datetimes = [], [], [], [], []\n",
        "    unique_dates = {}\n",
        "\n",
        "    for row in reader:\n",
        "\n",
        "      datetimes.append(ee.Date(row['datetime']).millis())\n",
        "      rawvalues.append(ee.Number(float(row['pm25'])))\n",
        "      xy.append([ee.Number(float(row['longitude'])), ee.Number(float(row['latitude']))])\n",
        "      sites.append(ee.String(row['station']))\n",
        "      pt_num.append(ee.Number(float(row['index'])))\n",
        "\n",
        "  # put ee objects in ee.Lists\n",
        "  ee_pt_num = ee.List(pt_num)\n",
        "  ee_xy = ee.List(xy)\n",
        "  ee_sites = ee.List(sites)\n",
        "  ee_rawvalues = ee.List(rawvalues)\n",
        "  ee_datetimes = ee.List(datetimes)\n",
        "\n",
        "  # convert to feature collection\n",
        "  data = ee.FeatureCollection(ee_pt_num.map(createFC))\n",
        "\n",
        "  # export to Google Earth Engine\n",
        "  ee.batch.Export.table.toAsset(data, 'PM25', 'projects/ee-aspenjkmorgan/assets/PM_ave_' + str(i + 1)).start()"
      ]
    }
  ],
  "metadata": {
    "colab": {
      "provenance": []
    },
    "kernelspec": {
      "display_name": "Python 3",
      "name": "python3"
    },
    "language_info": {
      "name": "python"
    }
  },
  "nbformat": 4,
  "nbformat_minor": 0
}