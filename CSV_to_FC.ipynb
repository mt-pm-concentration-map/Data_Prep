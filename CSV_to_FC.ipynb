{
  "cells": [
    {
      "cell_type": "markdown",
      "source": [
        "# CSV to ee.FeatureCollection\n",
        "This script convers the PM-2.5 ground station data (in a csv) to an ee.FeatureCollection for upload to Google Earth Engine."
      ],
      "metadata": {
        "id": "aHWdfHsbpEpG"
      }
    },
    {
      "cell_type": "code",
      "execution_count": null,
      "metadata": {
        "id": "PszBmYgO6wUj"
      },
      "outputs": [],
      "source": [
        "# Accesses Earth Engine API\n",
        "import ee\n",
        "ee.Authenticate()\n",
        "ee.Initialize()"
      ]
    },
    {
      "cell_type": "code",
      "execution_count": null,
      "metadata": {
        "id": "CeN-s5V66wUn"
      },
      "outputs": [],
      "source": [
        "# Open file using csv library\n",
        "filename = 'PM_TAW_AY_2b.csv'\n",
        "\n",
        "import csv\n",
        "with open(filename, 'r', newline='') as csvfile:\n",
        "  reader = csv.DictReader(csvfile)\n",
        "\n",
        "  # parse the dataframe for date, hour, site name, and raw value\n",
        "  # convert components to EE objects\n",
        "  pt_num, xy, sites, rawvalues, datetimes = [], [], [], [], []\n",
        "  unique_dates = {}\n",
        "\n",
        "  for row in reader:\n",
        "\n",
        "    datetimes.append(ee.Date(row['datetime']).millis())\n",
        "    rawvalues.append(ee.Number(float(row['rawvalue'])))\n",
        "    xy.append([ee.Number(float(row['longitude'])), ee.Number(float(row['latitude']))])\n",
        "    sites.append(ee.String(row['sitename']))\n",
        "    pt_num.append(ee.Number(float(row['num'])))"
      ]
    },
    {
      "cell_type": "code",
      "execution_count": null,
      "metadata": {
        "id": "R-QVSJGvKzAc"
      },
      "outputs": [],
      "source": [
        "# convert to ee.Lists\n",
        "ee_pt_num = ee.List(pt_num)\n",
        "ee_xy = ee.List(xy)\n",
        "ee_sites = ee.List(sites)\n",
        "ee_rawvalues = ee.List(rawvalues)\n",
        "ee_datetimes = ee.List(datetimes)"
      ]
    },
    {
      "cell_type": "code",
      "execution_count": null,
      "metadata": {
        "id": "KYL2JZwZ6wUq"
      },
      "outputs": [],
      "source": [
        "# combine into Earth Engine feature collection\n",
        "def combine(number):\n",
        "    point = ee_xy.get(number)\n",
        "    datetime = ee_datetimes.get(number)\n",
        "    station = ee_sites.get(number)\n",
        "    pm25 = ee_rawvalues.get(number)\n",
        "    return ee.Feature(ee.Geometry.Point(point),\n",
        "     {'station': station, 'pm25': pm25}).set('system:time_start', datetime)\n",
        "\n",
        "data = ee.FeatureCollection(ee_pt_num.map(combine))"
      ]
    },
    {
      "cell_type": "code",
      "execution_count": null,
      "metadata": {
        "id": "b2J348zh6wUr"
      },
      "outputs": [],
      "source": [
        "# export to Google Earth Engine\n",
        "ee.batch.Export.table.toAsset(data, 'TAW_AY_2b', 'users/aspenjkmorgan/PM_FC/TAW_AY_2b').start()"
      ]
    }
  ],
  "metadata": {
    "colab": {
      "provenance": []
    },
    "kernelspec": {
      "display_name": "Python 3",
      "name": "python3"
    },
    "language_info": {
      "name": "python"
    }
  },
  "nbformat": 4,
  "nbformat_minor": 0
}