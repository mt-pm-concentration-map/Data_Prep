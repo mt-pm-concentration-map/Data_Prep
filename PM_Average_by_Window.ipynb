{
  "cells": [
    {
      "cell_type": "markdown",
      "id": "75a18a66-555a-44c8-b058-61c8dccfed02",
      "metadata": {
        "id": "75a18a66-555a-44c8-b058-61c8dccfed02"
      },
      "source": [
        "# Get average PM2.5 by satellite pass over window"
      ]
    },
    {
      "cell_type": "markdown",
      "id": "c19c5b26-1ea7-49e9-87e2-a20c80705c46",
      "metadata": {
        "id": "c19c5b26-1ea7-49e9-87e2-a20c80705c46"
      },
      "source": [
        "**Terra flyover:** approx. 17-19Z -> 18Z and 19Z in DEQ discrete data\n",
        "\n",
        "**Aqua flyover:** approx. 19-21Z -> 20Z and 21Z in DEQ discrete data\n",
        "\n",
        "'date' column is in UTC and 'hour' column is in MDT/MST. 'Datetime' is unreliable."
      ]
    },
    {
      "cell_type": "code",
      "execution_count": null,
      "id": "d46a8a06-ee24-4dc1-8c67-ac5921d7ba3e",
      "metadata": {
        "id": "d46a8a06-ee24-4dc1-8c67-ac5921d7ba3e",
        "tags": []
      },
      "outputs": [],
      "source": [
        "import pandas as pd"
      ]
    },
    {
      "cell_type": "code",
      "execution_count": null,
      "id": "daffc2ad",
      "metadata": {
        "id": "daffc2ad",
        "outputId": "706c883d-77f2-4d05-caa5-aa0a090fee19"
      },
      "outputs": [
        {
          "data": {
            "text/html": [
              "<div>\n",
              "<style scoped>\n",
              "    .dataframe tbody tr th:only-of-type {\n",
              "        vertical-align: middle;\n",
              "    }\n",
              "\n",
              "    .dataframe tbody tr th {\n",
              "        vertical-align: top;\n",
              "    }\n",
              "\n",
              "    .dataframe thead th {\n",
              "        text-align: right;\n",
              "    }\n",
              "</style>\n",
              "<table border=\"1\" class=\"dataframe\">\n",
              "  <thead>\n",
              "    <tr style=\"text-align: right;\">\n",
              "      <th></th>\n",
              "      <th>date</th>\n",
              "      <th>latitude</th>\n",
              "      <th>rawvalue</th>\n",
              "      <th>sitename</th>\n",
              "      <th>longitude</th>\n",
              "    </tr>\n",
              "  </thead>\n",
              "  <tbody>\n",
              "    <tr>\n",
              "      <th>0</th>\n",
              "      <td>2012/01/01 18:00:00+00</td>\n",
              "      <td>46.002602</td>\n",
              "      <td>12.224</td>\n",
              "      <td>Butte</td>\n",
              "      <td>-112.501247</td>\n",
              "    </tr>\n",
              "    <tr>\n",
              "      <th>1</th>\n",
              "      <td>2012/01/01 18:00:00+00</td>\n",
              "      <td>46.850500</td>\n",
              "      <td>2.636</td>\n",
              "      <td>NCore</td>\n",
              "      <td>-111.987164</td>\n",
              "    </tr>\n",
              "    <tr>\n",
              "      <th>2</th>\n",
              "      <td>2012/01/01 18:00:00+00</td>\n",
              "      <td>47.175632</td>\n",
              "      <td>17.330</td>\n",
              "      <td>Seeley Lake</td>\n",
              "      <td>-113.476161</td>\n",
              "    </tr>\n",
              "  </tbody>\n",
              "</table>\n",
              "</div>"
            ],
            "text/plain": [
              "                     date   latitude  rawvalue     sitename   longitude\n",
              "0  2012/01/01 18:00:00+00  46.002602    12.224        Butte -112.501247\n",
              "1  2012/01/01 18:00:00+00  46.850500     2.636        NCore -111.987164\n",
              "2  2012/01/01 18:00:00+00  47.175632    17.330  Seeley Lake -113.476161"
            ]
          },
          "execution_count": 3,
          "metadata": {},
          "output_type": "execute_result"
        }
      ],
      "source": [
        "# open csv in dataframe, only keep useful columns\n",
        "data = pd.read_csv('Montana_Air_Quality_Monitoring_Data.csv',\n",
        "                   usecols=['date', 'rawvalue', 'sitename', 'longitude', 'latitude'])\n",
        "\n",
        "data.head(3)"
      ]
    },
    {
      "cell_type": "code",
      "execution_count": null,
      "id": "7bafc7d2-174d-4986-885e-86dea2ebcc06",
      "metadata": {
        "id": "7bafc7d2-174d-4986-885e-86dea2ebcc06",
        "tags": []
      },
      "outputs": [],
      "source": [
        "# ignore null values and negatives\n",
        "data = data.loc[data['rawvalue'] >= 0]"
      ]
    },
    {
      "cell_type": "code",
      "execution_count": null,
      "id": "4e719799-b927-4552-a9a5-ea92ed417a40",
      "metadata": {
        "id": "4e719799-b927-4552-a9a5-ea92ed417a40",
        "tags": []
      },
      "outputs": [],
      "source": [
        "# separate date column into date and time\n",
        "def getTime(datetime):\n",
        "    dt = str(datetime)\n",
        "    time = int(dt.split(' ')[1].split(':')[0])\n",
        "    return time\n",
        "\n",
        "def getDate(datetime):\n",
        "    dt = str(datetime)\n",
        "    date = dt.split(' ')[0].replace('/', '-')\n",
        "    return date\n",
        "\n",
        "data['time'] = data.date.apply(getTime)\n",
        "data['date'] = data.date.apply(getDate)"
      ]
    },
    {
      "cell_type": "code",
      "execution_count": null,
      "id": "8ddc61f0-47c9-471c-8fa3-a7bb39343a99",
      "metadata": {
        "id": "8ddc61f0-47c9-471c-8fa3-a7bb39343a99",
        "tags": []
      },
      "outputs": [],
      "source": [
        "# get unique dates\n",
        "unique_dates = data.date.unique()\n",
        "\n",
        "# get unique ground stations\n",
        "unique_sitenames = data.sitename.unique()\n",
        "\n",
        "# get latitude and longitude by station in dictionary\n",
        "lats = {}\n",
        "longs = {}\n",
        "for site in unique_sitenames:\n",
        "    lat = data.loc[data.sitename == site, 'latitude'].iloc[0]\n",
        "    long = data.loc[data.sitename == site, 'longitude'].iloc[0]\n",
        "    lats[site] = lat\n",
        "    longs[site] = long"
      ]
    },
    {
      "cell_type": "code",
      "execution_count": null,
      "id": "ccce872d-2d13-4a38-be8c-a59c4e1a143a",
      "metadata": {
        "id": "ccce872d-2d13-4a38-be8c-a59c4e1a143a",
        "tags": []
      },
      "outputs": [],
      "source": [
        "# empty lists for holding averaged data\n",
        "datetimes = []\n",
        "sitenames = []\n",
        "rawvalues = []\n",
        "\n",
        "# filter by date and station\n",
        "for date in unique_dates:\n",
        "    open_sites = data.loc[data.date == date, 'sitename'].unique()\n",
        "    for site in open_sites:\n",
        "        subtable = data.loc[(data.date == date) & (data.sitename == site)]\n",
        "\n",
        "        # average time window 1\n",
        "        window1 = subtable.loc[(subtable.time == 18) | (subtable.time == 19)]\n",
        "        rawvalues.append(window1.rawvalue.mean())\n",
        "        sitenames.append(site)\n",
        "        datetimes.append(date + 'T18:00')\n",
        "\n",
        "        # average time window 2\n",
        "        window2 = subtable.loc[(subtable.time == 20) | (subtable.time == 21)]\n",
        "        rawvalues.append(window2.rawvalue.mean())\n",
        "        sitenames.append(site)\n",
        "        datetimes.append(date + 'T20:00')\n",
        "\n",
        "# put data back into dataframe\n",
        "output_data = pd.DataFrame({'datetime': datetimes,\n",
        "                              'station': sitenames,\n",
        "                              'pm25': rawvalues})"
      ]
    },
    {
      "cell_type": "code",
      "execution_count": null,
      "id": "21dfdbd7-068e-4c6b-bdb7-1930afcade6f",
      "metadata": {
        "id": "21dfdbd7-068e-4c6b-bdb7-1930afcade6f",
        "tags": []
      },
      "outputs": [],
      "source": [
        "# add back coordinates\n",
        "output_data['latitude'] = output_data.station.map(lats)\n",
        "output_data['longitude'] = output_data.station.map(longs)"
      ]
    },
    {
      "cell_type": "code",
      "execution_count": null,
      "id": "67b7a937-79a0-4284-8e54-a7d343ff7832",
      "metadata": {
        "id": "67b7a937-79a0-4284-8e54-a7d343ff7832",
        "tags": []
      },
      "outputs": [],
      "source": [
        "# some rawvalues are created due to observations being present at a station\n",
        "# during only one of the time window\n",
        "output_data = output_data.loc[output_data.pm25.isna()==False]"
      ]
    },
    {
      "cell_type": "code",
      "execution_count": null,
      "id": "fMLM0vSs9ldv",
      "metadata": {
        "id": "fMLM0vSs9ldv"
      },
      "outputs": [],
      "source": [
        "# fix index column\n",
        "output_data.reset_index(drop=True, inplace=True)"
      ]
    },
    {
      "cell_type": "code",
      "execution_count": null,
      "id": "32619ac7",
      "metadata": {
        "id": "32619ac7"
      },
      "outputs": [],
      "source": [
        "# split in two (easier for processing in GEE later)\n",
        "one = output_data.iloc[(output_data.index < (len(output_data) // 2)), :]\n",
        "two = output_data.iloc[(output_data.index >= (len(output_data) // 2)), :]\n",
        "two.reset_index(drop=True, inplace=True)\n",
        "two.index.name = 'index'\n",
        "one.index.name = 'index'"
      ]
    },
    {
      "cell_type": "code",
      "execution_count": null,
      "id": "8ce9da7d-5325-43df-bbe0-c2ede3592aa0",
      "metadata": {
        "id": "8ce9da7d-5325-43df-bbe0-c2ede3592aa0"
      },
      "outputs": [],
      "source": [
        "# output as a csvs\n",
        "one.to_csv('PM_ave_1.csv')\n",
        "two.to_csv('PM_ave_2.csv')"
      ]
    }
  ],
  "metadata": {
    "colab": {
      "provenance": []
    },
    "kernelspec": {
      "display_name": "Python 3 (ipykernel)",
      "language": "python",
      "name": "python3"
    },
    "language_info": {
      "codemirror_mode": {
        "name": "ipython",
        "version": 3
      },
      "file_extension": ".py",
      "mimetype": "text/x-python",
      "name": "python",
      "nbconvert_exporter": "python",
      "pygments_lexer": "ipython3",
      "version": "3.11.7"
    }
  },
  "nbformat": 4,
  "nbformat_minor": 5
}