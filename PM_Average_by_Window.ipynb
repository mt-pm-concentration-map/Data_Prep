{
 "cells": [
  {
   "cell_type": "markdown",
   "id": "75a18a66-555a-44c8-b058-61c8dccfed02",
   "metadata": {},
   "source": [
    "# Get average PM2.5 by satellite pass over window"
   ]
  },
  {
   "cell_type": "markdown",
   "id": "c19c5b26-1ea7-49e9-87e2-a20c80705c46",
   "metadata": {},
   "source": [
    "**Terra flyover:** approx. 17-19Z -> 18Z and 19Z in DEQ discrete data\n",
    "\n",
    "**Aqua flyover:** approx. 19-21Z -> 20Z and 21Z in DEQ discrete data\n",
    "\n",
    "'date' column is in UTC and 'hour' column is in MDT/MST. Datetime is unreliable."
   ]
  },
  {
   "cell_type": "code",
   "execution_count": 2,
   "id": "d46a8a06-ee24-4dc1-8c67-ac5921d7ba3e",
   "metadata": {
    "tags": []
   },
   "outputs": [],
   "source": [
    "import pandas as pd"
   ]
  },
  {
   "cell_type": "code",
   "execution_count": 3,
   "id": "b80c4dec-d0e5-4aa6-8f2e-312c983e63d5",
   "metadata": {
    "tags": []
   },
   "outputs": [
    {
     "data": {
      "text/html": [
       "<div>\n",
       "<style scoped>\n",
       "    .dataframe tbody tr th:only-of-type {\n",
       "        vertical-align: middle;\n",
       "    }\n",
       "\n",
       "    .dataframe tbody tr th {\n",
       "        vertical-align: top;\n",
       "    }\n",
       "\n",
       "    .dataframe thead th {\n",
       "        text-align: right;\n",
       "    }\n",
       "</style>\n",
       "<table border=\"1\" class=\"dataframe\">\n",
       "  <thead>\n",
       "    <tr style=\"text-align: right;\">\n",
       "      <th></th>\n",
       "      <th>date</th>\n",
       "      <th>latitude</th>\n",
       "      <th>rawvalue</th>\n",
       "      <th>sitename</th>\n",
       "      <th>longitude</th>\n",
       "    </tr>\n",
       "  </thead>\n",
       "  <tbody>\n",
       "    <tr>\n",
       "      <th>332190</th>\n",
       "      <td>2022/12/31 22:00:00+00</td>\n",
       "      <td>47.594403</td>\n",
       "      <td>17.960</td>\n",
       "      <td>Thompson Falls</td>\n",
       "      <td>-115.323717</td>\n",
       "    </tr>\n",
       "    <tr>\n",
       "      <th>332191</th>\n",
       "      <td>2022/12/31 22:00:00+00</td>\n",
       "      <td>48.607406</td>\n",
       "      <td>-0.100</td>\n",
       "      <td>Cut Bank</td>\n",
       "      <td>-112.363842</td>\n",
       "    </tr>\n",
       "    <tr>\n",
       "      <th>332192</th>\n",
       "      <td>2022/12/31 22:00:00+00</td>\n",
       "      <td>46.243621</td>\n",
       "      <td>0.934</td>\n",
       "      <td>Hamilton</td>\n",
       "      <td>-114.158889</td>\n",
       "    </tr>\n",
       "  </tbody>\n",
       "</table>\n",
       "</div>"
      ],
      "text/plain": [
       "                          date   latitude  rawvalue        sitename  \\\n",
       "332190  2022/12/31 22:00:00+00  47.594403    17.960  Thompson Falls   \n",
       "332191  2022/12/31 22:00:00+00  48.607406    -0.100        Cut Bank   \n",
       "332192  2022/12/31 22:00:00+00  46.243621     0.934        Hamilton   \n",
       "\n",
       "         longitude  \n",
       "332190 -115.323717  \n",
       "332191 -112.363842  \n",
       "332192 -114.158889  "
      ]
     },
     "execution_count": 3,
     "metadata": {},
     "output_type": "execute_result"
    }
   ],
   "source": [
    "# open csv in dataframe, only keep useful columns\n",
    "data = pd.read_csv('Montana_Air_Quality_Monitoring_Data.csv', \n",
    "                   usecols=['date', 'rawvalue', 'sitename', 'longitude', 'latitude'])\n",
    "\n",
    "data.tail(3)"
   ]
  },
  {
   "cell_type": "code",
   "execution_count": 4,
   "id": "7bafc7d2-174d-4986-885e-86dea2ebcc06",
   "metadata": {
    "tags": []
   },
   "outputs": [],
   "source": [
    "# ignore null values and negatives\n",
    "data = data.loc[data['rawvalue'] >= 0]"
   ]
  },
  {
   "cell_type": "code",
   "execution_count": 18,
   "id": "4e719799-b927-4552-a9a5-ea92ed417a40",
   "metadata": {
    "tags": []
   },
   "outputs": [],
   "source": [
    "# separate date column into date and time\n",
    "def getTime(datetime):\n",
    "    dt = str(datetime)\n",
    "    time = int(dt.split(' ')[1].split(':')[0])\n",
    "    return time\n",
    "\n",
    "def getDate(datetime):\n",
    "    dt = str(datetime)\n",
    "    date = dt.split(' ')[0].replace('/', '-')\n",
    "    return date\n",
    " \n",
    "data['time'] = data.date.apply(getTime)\n",
    "data['date'] = data.date.apply(getDate)"
   ]
  },
  {
   "cell_type": "code",
   "execution_count": 19,
   "id": "b6908115-0ddc-4e98-b2f4-ae6322425fbf",
   "metadata": {
    "tags": []
   },
   "outputs": [],
   "source": [
    "# get unique dates\n",
    "unique_dates = data.date.unique()"
   ]
  },
  {
   "cell_type": "code",
   "execution_count": 20,
   "id": "8ddc61f0-47c9-471c-8fa3-a7bb39343a99",
   "metadata": {
    "tags": []
   },
   "outputs": [],
   "source": [
    "# get unique ground stations\n",
    "unique_sitenames = data.sitename.unique()\n",
    "\n",
    "# get latitude and longitude by station in dictionary\n",
    "lats = {}\n",
    "longs = {}\n",
    "for site in unique_sitenames:\n",
    "    lat = data.loc[data.sitename == site, 'latitude'].iloc[0]\n",
    "    long = data.loc[data.sitename == site, 'longitude'].iloc[0]\n",
    "    lats[site] = lat\n",
    "    longs[site] = long"
   ]
  },
  {
   "cell_type": "code",
   "execution_count": 21,
   "id": "ccce872d-2d13-4a38-be8c-a59c4e1a143a",
   "metadata": {
    "tags": []
   },
   "outputs": [],
   "source": [
    "# empty lists for holding averaged data\n",
    "datetimes = []\n",
    "sitenames = []\n",
    "rawvalues = []\n",
    "\n",
    "# filter by date and station\n",
    "for date in unique_dates:\n",
    "    open_sites = data.loc[data.date == date, 'sitename'].unique()\n",
    "    for site in open_sites:\n",
    "        subtable = data.loc[(data.date == date) & (data.sitename == site)]\n",
    "        \n",
    "        # average time window 1\n",
    "        window1 = subtable.loc[(subtable.time == 18) | (subtable.time == 19)]\n",
    "        rawvalues.append(window1.rawvalue.mean())\n",
    "        sitenames.append(site)\n",
    "        datetimes.append(date + 'T18:00')\n",
    "        \n",
    "        # average time window 2\n",
    "        window2 = subtable.loc[(subtable.time == 20) | (subtable.time == 21)]\n",
    "        rawvalues.append(window2.rawvalue.mean())\n",
    "        sitenames.append(site)\n",
    "        datetimes.append(date + 'T20:00')"
   ]
  },
  {
   "cell_type": "code",
   "execution_count": 48,
   "id": "cf63ee18-9117-421b-aa24-4577713c2ab4",
   "metadata": {
    "tags": []
   },
   "outputs": [],
   "source": [
    "# put data back into dataframe\n",
    "output_data = pd.DataFrame({'datetime': datetimes,\n",
    "                              'station': sitenames,\n",
    "                              'pm25': rawvalues})"
   ]
  },
  {
   "cell_type": "code",
   "execution_count": 49,
   "id": "21dfdbd7-068e-4c6b-bdb7-1930afcade6f",
   "metadata": {
    "tags": []
   },
   "outputs": [],
   "source": [
    "# add back coordinates\n",
    "output_data['latitude'] = output_data.station.map(lats)\n",
    "output_data['longitude'] = output_data.station.map(longs)"
   ]
  },
  {
   "cell_type": "code",
   "execution_count": 50,
   "id": "67b7a937-79a0-4284-8e54-a7d343ff7832",
   "metadata": {
    "tags": []
   },
   "outputs": [],
   "source": [
    "# some rawvalues are created due to observations being present at a station\n",
    "# during only one of the time window\n",
    "output_data = output_data.loc[output_data.pm25.isna()==False]"
   ]
  },
  {
   "cell_type": "code",
   "execution_count": null,
   "id": "8302f66a-4a32-4e7d-baf3-e6a61bb5fbea",
   "metadata": {
    "tags": []
   },
   "outputs": [],
   "source": [
    "output_data.index.name = 'num'"
   ]
  },
  {
   "cell_type": "code",
   "execution_count": 53,
   "id": "8ce9da7d-5325-43df-bbe0-c2ede3592aa0",
   "metadata": {
    "tags": []
   },
   "outputs": [],
   "source": [
    "# output as a csv\n",
    "output_data.to_csv('PM_averaged_v2.csv')"
   ]
  }
 ],
 "metadata": {
  "kernelspec": {
   "display_name": "Python 3 (ipykernel)",
   "language": "python",
   "name": "python3"
  },
  "language_info": {
   "codemirror_mode": {
    "name": "ipython",
    "version": 3
   },
   "file_extension": ".py",
   "mimetype": "text/x-python",
   "name": "python",
   "nbconvert_exporter": "python",
   "pygments_lexer": "ipython3",
   "version": "3.11.5"
  }
 },
 "nbformat": 4,
 "nbformat_minor": 5
}
