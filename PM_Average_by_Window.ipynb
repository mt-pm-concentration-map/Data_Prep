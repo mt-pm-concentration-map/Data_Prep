{
 "cells": [
  {
   "cell_type": "markdown",
   "id": "75a18a66-555a-44c8-b058-61c8dccfed02",
   "metadata": {},
   "source": [
    "# Get average PM2.5 by satellite pass over window"
   ]
  },
  {
   "cell_type": "markdown",
   "id": "c19c5b26-1ea7-49e9-87e2-a20c80705c46",
   "metadata": {},
   "source": [
    "**Terra flyover:** approx. 17-19Z -> 18Z and 19Z in DEQ discrete data\n",
    "\n",
    "**Aqua flyover:** approx. 19-21Z -> 20Z and 21Z in DEQ discrete data\n",
    "\n",
    "'date' column is in UTC and 'hour' column is in MDT/MST. Datetime is unreliable."
   ]
  },
  {
   "cell_type": "code",
   "execution_count": 1,
   "id": "d46a8a06-ee24-4dc1-8c67-ac5921d7ba3e",
   "metadata": {
    "tags": []
   },
   "outputs": [],
   "source": [
    "import pandas as pd"
   ]
  },
  {
   "cell_type": "code",
   "execution_count": 3,
   "id": "b80c4dec-d0e5-4aa6-8f2e-312c983e63d5",
   "metadata": {
    "tags": []
   },
   "outputs": [
    {
     "data": {
      "text/html": [
       "<div>\n",
       "<style scoped>\n",
       "    .dataframe tbody tr th:only-of-type {\n",
       "        vertical-align: middle;\n",
       "    }\n",
       "\n",
       "    .dataframe tbody tr th {\n",
       "        vertical-align: top;\n",
       "    }\n",
       "\n",
       "    .dataframe thead th {\n",
       "        text-align: right;\n",
       "    }\n",
       "</style>\n",
       "<table border=\"1\" class=\"dataframe\">\n",
       "  <thead>\n",
       "    <tr style=\"text-align: right;\">\n",
       "      <th></th>\n",
       "      <th>date</th>\n",
       "      <th>latitude</th>\n",
       "      <th>rawvalue</th>\n",
       "      <th>sitename</th>\n",
       "      <th>longitude</th>\n",
       "    </tr>\n",
       "  </thead>\n",
       "  <tbody>\n",
       "    <tr>\n",
       "      <th>0</th>\n",
       "      <td>2012/01/01 17:00:00+00</td>\n",
       "      <td>46.842301</td>\n",
       "      <td>14.995</td>\n",
       "      <td>Missoula</td>\n",
       "      <td>-114.020582</td>\n",
       "    </tr>\n",
       "    <tr>\n",
       "      <th>1</th>\n",
       "      <td>2012/01/01 17:00:00+00</td>\n",
       "      <td>47.012907</td>\n",
       "      <td>10.366</td>\n",
       "      <td>Frenchtown</td>\n",
       "      <td>-114.224273</td>\n",
       "    </tr>\n",
       "    <tr>\n",
       "      <th>2</th>\n",
       "      <td>2012/01/01 17:00:00+00</td>\n",
       "      <td>46.658762</td>\n",
       "      <td>6.248</td>\n",
       "      <td>Helena</td>\n",
       "      <td>-112.013089</td>\n",
       "    </tr>\n",
       "  </tbody>\n",
       "</table>\n",
       "</div>"
      ],
      "text/plain": [
       "                     date   latitude  rawvalue    sitename   longitude\n",
       "0  2012/01/01 17:00:00+00  46.842301    14.995    Missoula -114.020582\n",
       "1  2012/01/01 17:00:00+00  47.012907    10.366  Frenchtown -114.224273\n",
       "2  2012/01/01 17:00:00+00  46.658762     6.248      Helena -112.013089"
      ]
     },
     "execution_count": 3,
     "metadata": {},
     "output_type": "execute_result"
    }
   ],
   "source": [
    "# open csv in dataframe, only keep useful columns\n",
    "data = pd.read_csv('Raw_data_12-17.csv', \n",
    "                   usecols=['date', 'rawvalue', 'sitename', 'longitude', 'latitude'])\n",
    "\n",
    "data.head(3)"
   ]
  },
  {
   "cell_type": "code",
   "execution_count": 17,
   "id": "7bafc7d2-174d-4986-885e-86dea2ebcc06",
   "metadata": {
    "tags": []
   },
   "outputs": [],
   "source": [
    "# ignore null values and negatives\n",
    "data = data.loc[data['rawvalue'] >= 0]"
   ]
  },
  {
   "cell_type": "code",
   "execution_count": 6,
   "id": "4e719799-b927-4552-a9a5-ea92ed417a40",
   "metadata": {
    "tags": []
   },
   "outputs": [],
   "source": [
    "# separate date column into date and time\n",
    "def getTime(datetime):\n",
    "    dt = str(datetime)\n",
    "    time = int(dt.split(' ')[1].split(':')[0])\n",
    "    return time\n",
    "\n",
    "def getDate(datetime):\n",
    "    dt = str(datetime)\n",
    "    date = dt.split(' ')[0].replace('/', '-')\n",
    "    return date\n",
    " \n",
    "data['time'] = data.date.apply(getTime)\n",
    "data['date'] = data.date.apply(getDate)"
   ]
  },
  {
   "cell_type": "code",
   "execution_count": 7,
   "id": "b6908115-0ddc-4e98-b2f4-ae6322425fbf",
   "metadata": {
    "tags": []
   },
   "outputs": [],
   "source": [
    "# get unique dates\n",
    "unique_dates = data.date.unique()"
   ]
  },
  {
   "cell_type": "code",
   "execution_count": 8,
   "id": "8ddc61f0-47c9-471c-8fa3-a7bb39343a99",
   "metadata": {
    "tags": []
   },
   "outputs": [],
   "source": [
    "# get unique ground stations\n",
    "unique_sitenames = data.sitename.unique()\n",
    "\n",
    "# get latitude and longitude by station in dictionary\n",
    "lats = {}\n",
    "longs = {}\n",
    "for site in unique_sitenames:\n",
    "    lat = data.loc[data.sitename == site, 'latitude'].iloc[0]\n",
    "    long = data.loc[data.sitename == site, 'longitude'].iloc[0]\n",
    "    lats[site] = lat\n",
    "    longs[site] = long"
   ]
  },
  {
   "cell_type": "code",
   "execution_count": 9,
   "id": "ccce872d-2d13-4a38-be8c-a59c4e1a143a",
   "metadata": {
    "tags": []
   },
   "outputs": [],
   "source": [
    "# empty lists for holding averaged data\n",
    "datetimes = []\n",
    "sitenames = []\n",
    "rawvalues = []\n",
    "\n",
    "# filter by date and station\n",
    "for date in unique_dates:\n",
    "    open_sites = data.loc[data.date == date, 'sitename'].unique()\n",
    "    for site in open_sites:\n",
    "        subtable = data.loc[(data.date == date) & (data.sitename == site)]\n",
    "        \n",
    "        # average time window 1\n",
    "        window1 = subtable.loc[(subtable.time == 18) | (subtable.time == 19)]\n",
    "        rawvalues.append(window1.rawvalue.mean())\n",
    "        sitenames.append(site)\n",
    "        datetimes.append(date + ' 18:00')\n",
    "        \n",
    "        # average time window 2\n",
    "        window2 = subtable.loc[(subtable.time == 20) | (subtable.time == 21)]\n",
    "        rawvalues.append(window2.rawvalue.mean())\n",
    "        sitenames.append(site)\n",
    "        datetimes.append(date + ' 20:00')\n",
    "        \n",
    "# put data back into dataframe\n",
    "output_data = pd.DataFrame({'datetime': datetimes,\n",
    "                              'sitename': sitenames,\n",
    "                              'rawvalue': rawvalues})"
   ]
  },
  {
   "cell_type": "code",
   "execution_count": 10,
   "id": "21dfdbd7-068e-4c6b-bdb7-1930afcade6f",
   "metadata": {
    "tags": []
   },
   "outputs": [],
   "source": [
    "# add back coordinates\n",
    "output_data['latitude'] = output_data.sitename.map(lats)\n",
    "output_data['longitude'] = output_data.sitename.map(longs)"
   ]
  },
  {
   "cell_type": "code",
   "execution_count": 13,
   "id": "67b7a937-79a0-4284-8e54-a7d343ff7832",
   "metadata": {
    "tags": []
   },
   "outputs": [],
   "source": [
    "# some rawvalues are created due to observations being present at a station\n",
    "# during only one of the time window\n",
    "output_data = output_data.loc[output_data.rawvalue.isna()==False]"
   ]
  },
  {
   "cell_type": "code",
   "execution_count": null,
   "id": "8ce9da7d-5325-43df-bbe0-c2ede3592aa0",
   "metadata": {},
   "outputs": [],
   "source": [
    "# output as a csv\n",
    "output_data.to_csv('PM_averaged.csv')"
   ]
  }
 ],
 "metadata": {
  "kernelspec": {
   "display_name": "Python 3 (ipykernel)",
   "language": "python",
   "name": "python3"
  },
  "language_info": {
   "codemirror_mode": {
    "name": "ipython",
    "version": 3
   },
   "file_extension": ".py",
   "mimetype": "text/x-python",
   "name": "python",
   "nbconvert_exporter": "python",
   "pygments_lexer": "ipython3",
   "version": "3.10.12"
  }
 },
 "nbformat": 4,
 "nbformat_minor": 5
}
